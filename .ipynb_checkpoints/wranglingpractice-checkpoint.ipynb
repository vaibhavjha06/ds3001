{
 "cells": [
  {
   "cell_type": "code",
   "execution_count": 2,
   "id": "4d36e473-f109-4ee3-83cc-80876c928c8f",
   "metadata": {},
   "outputs": [],
   "source": [
    "import pandas as pd\n",
    "import numpy as np\n",
    "import matplotlib.pyplot as plt\n",
    "\n",
    "# importing necessary packages"
   ]
  },
  {
   "cell_type": "code",
   "execution_count": 3,
   "id": "bbf0f1e6-b952-4e41-ad13-61d5cd34cedc",
   "metadata": {},
   "outputs": [],
   "source": [
    "filepath = '/Users/vaibhavjha/wrangling/data/sharks.csv'\n",
    "sharks = pd.read_csv(filepath, low_memory = False)\n",
    "\n",
    "# reading in the file"
   ]
  },
  {
   "cell_type": "code",
   "execution_count": 4,
   "id": "6ce2452b-bed8-4fbb-a103-4d13dddb3d18",
   "metadata": {},
   "outputs": [
    {
     "data": {
      "text/html": [
       "<div>\n",
       "<style scoped>\n",
       "    .dataframe tbody tr th:only-of-type {\n",
       "        vertical-align: middle;\n",
       "    }\n",
       "\n",
       "    .dataframe tbody tr th {\n",
       "        vertical-align: top;\n",
       "    }\n",
       "\n",
       "    .dataframe thead th {\n",
       "        text-align: right;\n",
       "    }\n",
       "</style>\n",
       "<table border=\"1\" class=\"dataframe\">\n",
       "  <thead>\n",
       "    <tr style=\"text-align: right;\">\n",
       "      <th></th>\n",
       "      <th>index</th>\n",
       "      <th>Case Number</th>\n",
       "      <th>Date</th>\n",
       "      <th>Year</th>\n",
       "      <th>Type</th>\n",
       "      <th>Country</th>\n",
       "      <th>Area</th>\n",
       "      <th>Location</th>\n",
       "      <th>Activity</th>\n",
       "      <th>Name</th>\n",
       "      <th>...</th>\n",
       "      <th>Unnamed: 246</th>\n",
       "      <th>Unnamed: 247</th>\n",
       "      <th>Unnamed: 248</th>\n",
       "      <th>Unnamed: 249</th>\n",
       "      <th>Unnamed: 250</th>\n",
       "      <th>Unnamed: 251</th>\n",
       "      <th>Unnamed: 252</th>\n",
       "      <th>Unnamed: 253</th>\n",
       "      <th>Unnamed: 254</th>\n",
       "      <th>Unnamed: 255</th>\n",
       "    </tr>\n",
       "  </thead>\n",
       "  <tbody>\n",
       "    <tr>\n",
       "      <th>0</th>\n",
       "      <td>0</td>\n",
       "      <td>2020.02.05</td>\n",
       "      <td>05-Feb-2020</td>\n",
       "      <td>2020.0</td>\n",
       "      <td>Unprovoked</td>\n",
       "      <td>USA</td>\n",
       "      <td>Maui</td>\n",
       "      <td>NaN</td>\n",
       "      <td>Stand-Up Paddle boarding</td>\n",
       "      <td>NaN</td>\n",
       "      <td>...</td>\n",
       "      <td>NaN</td>\n",
       "      <td>NaN</td>\n",
       "      <td>NaN</td>\n",
       "      <td>NaN</td>\n",
       "      <td>NaN</td>\n",
       "      <td>NaN</td>\n",
       "      <td>NaN</td>\n",
       "      <td>NaN</td>\n",
       "      <td>NaN</td>\n",
       "      <td>NaN</td>\n",
       "    </tr>\n",
       "    <tr>\n",
       "      <th>1</th>\n",
       "      <td>1</td>\n",
       "      <td>2020.01.30.R</td>\n",
       "      <td>Reported 30-Jan-2020</td>\n",
       "      <td>2020.0</td>\n",
       "      <td>Provoked</td>\n",
       "      <td>BAHAMAS</td>\n",
       "      <td>Exumas</td>\n",
       "      <td>NaN</td>\n",
       "      <td>Floating</td>\n",
       "      <td>Ana Bruna Avila</td>\n",
       "      <td>...</td>\n",
       "      <td>NaN</td>\n",
       "      <td>NaN</td>\n",
       "      <td>NaN</td>\n",
       "      <td>NaN</td>\n",
       "      <td>NaN</td>\n",
       "      <td>NaN</td>\n",
       "      <td>NaN</td>\n",
       "      <td>NaN</td>\n",
       "      <td>NaN</td>\n",
       "      <td>NaN</td>\n",
       "    </tr>\n",
       "    <tr>\n",
       "      <th>2</th>\n",
       "      <td>2</td>\n",
       "      <td>2020.01.17</td>\n",
       "      <td>17-Jan-2020</td>\n",
       "      <td>2020.0</td>\n",
       "      <td>Unprovoked</td>\n",
       "      <td>AUSTRALIA</td>\n",
       "      <td>New South Wales</td>\n",
       "      <td>Windang Beach</td>\n",
       "      <td>Surfing</td>\n",
       "      <td>Will Schroeter</td>\n",
       "      <td>...</td>\n",
       "      <td>NaN</td>\n",
       "      <td>NaN</td>\n",
       "      <td>NaN</td>\n",
       "      <td>NaN</td>\n",
       "      <td>NaN</td>\n",
       "      <td>NaN</td>\n",
       "      <td>NaN</td>\n",
       "      <td>NaN</td>\n",
       "      <td>NaN</td>\n",
       "      <td>NaN</td>\n",
       "    </tr>\n",
       "    <tr>\n",
       "      <th>3</th>\n",
       "      <td>3</td>\n",
       "      <td>2020.01.16</td>\n",
       "      <td>16-Jan-2020</td>\n",
       "      <td>2020.0</td>\n",
       "      <td>Unprovoked</td>\n",
       "      <td>NEW ZEALAND</td>\n",
       "      <td>Southland</td>\n",
       "      <td>Oreti Beach</td>\n",
       "      <td>Surfing</td>\n",
       "      <td>Jordan King</td>\n",
       "      <td>...</td>\n",
       "      <td>NaN</td>\n",
       "      <td>NaN</td>\n",
       "      <td>NaN</td>\n",
       "      <td>NaN</td>\n",
       "      <td>NaN</td>\n",
       "      <td>NaN</td>\n",
       "      <td>NaN</td>\n",
       "      <td>NaN</td>\n",
       "      <td>NaN</td>\n",
       "      <td>NaN</td>\n",
       "    </tr>\n",
       "    <tr>\n",
       "      <th>4</th>\n",
       "      <td>4</td>\n",
       "      <td>2020.01.13</td>\n",
       "      <td>13-Jan-2020</td>\n",
       "      <td>2020.0</td>\n",
       "      <td>Unprovoked</td>\n",
       "      <td>USA</td>\n",
       "      <td>North Carolina</td>\n",
       "      <td>Rodanthe, Dare County</td>\n",
       "      <td>Surfing</td>\n",
       "      <td>Samuel Horne</td>\n",
       "      <td>...</td>\n",
       "      <td>NaN</td>\n",
       "      <td>NaN</td>\n",
       "      <td>NaN</td>\n",
       "      <td>NaN</td>\n",
       "      <td>NaN</td>\n",
       "      <td>NaN</td>\n",
       "      <td>NaN</td>\n",
       "      <td>NaN</td>\n",
       "      <td>NaN</td>\n",
       "      <td>NaN</td>\n",
       "    </tr>\n",
       "  </tbody>\n",
       "</table>\n",
       "<p>5 rows × 257 columns</p>\n",
       "</div>"
      ],
      "text/plain": [
       "   index   Case Number                  Date    Year        Type      Country  \\\n",
       "0      0    2020.02.05           05-Feb-2020  2020.0  Unprovoked          USA   \n",
       "1      1  2020.01.30.R  Reported 30-Jan-2020  2020.0    Provoked      BAHAMAS   \n",
       "2      2    2020.01.17           17-Jan-2020  2020.0  Unprovoked    AUSTRALIA   \n",
       "3      3    2020.01.16           16-Jan-2020  2020.0  Unprovoked  NEW ZEALAND   \n",
       "4      4    2020.01.13           13-Jan-2020  2020.0  Unprovoked          USA   \n",
       "\n",
       "              Area               Location                  Activity  \\\n",
       "0             Maui                    NaN  Stand-Up Paddle boarding   \n",
       "1           Exumas                    NaN                  Floating   \n",
       "2  New South Wales          Windang Beach                   Surfing   \n",
       "3        Southland            Oreti Beach                   Surfing   \n",
       "4   North Carolina  Rodanthe, Dare County                   Surfing   \n",
       "\n",
       "              Name  ... Unnamed: 246 Unnamed: 247 Unnamed: 248 Unnamed: 249  \\\n",
       "0              NaN  ...          NaN          NaN          NaN          NaN   \n",
       "1  Ana Bruna Avila  ...          NaN          NaN          NaN          NaN   \n",
       "2   Will Schroeter  ...          NaN          NaN          NaN          NaN   \n",
       "3      Jordan King  ...          NaN          NaN          NaN          NaN   \n",
       "4     Samuel Horne  ...          NaN          NaN          NaN          NaN   \n",
       "\n",
       "  Unnamed: 250 Unnamed: 251 Unnamed: 252 Unnamed: 253 Unnamed: 254  \\\n",
       "0          NaN          NaN          NaN          NaN          NaN   \n",
       "1          NaN          NaN          NaN          NaN          NaN   \n",
       "2          NaN          NaN          NaN          NaN          NaN   \n",
       "3          NaN          NaN          NaN          NaN          NaN   \n",
       "4          NaN          NaN          NaN          NaN          NaN   \n",
       "\n",
       "  Unnamed: 255  \n",
       "0          NaN  \n",
       "1          NaN  \n",
       "2          NaN  \n",
       "3          NaN  \n",
       "4          NaN  \n",
       "\n",
       "[5 rows x 257 columns]"
      ]
     },
     "execution_count": 4,
     "metadata": {},
     "output_type": "execute_result"
    }
   ],
   "source": [
    "sharks.head()\n",
    "#sharks.shape\n",
    "\n",
    "# getting feel for size, rows, columns"
   ]
  },
  {
   "cell_type": "code",
   "execution_count": 5,
   "id": "78d021cd-d97e-45ad-887f-bf93ac459616",
   "metadata": {},
   "outputs": [
    {
     "data": {
      "text/html": [
       "<div>\n",
       "<style scoped>\n",
       "    .dataframe tbody tr th:only-of-type {\n",
       "        vertical-align: middle;\n",
       "    }\n",
       "\n",
       "    .dataframe tbody tr th {\n",
       "        vertical-align: top;\n",
       "    }\n",
       "\n",
       "    .dataframe thead th {\n",
       "        text-align: right;\n",
       "    }\n",
       "</style>\n",
       "<table border=\"1\" class=\"dataframe\">\n",
       "  <thead>\n",
       "    <tr style=\"text-align: right;\">\n",
       "      <th></th>\n",
       "      <th>Case Number</th>\n",
       "      <th>Date</th>\n",
       "      <th>Year</th>\n",
       "    </tr>\n",
       "  </thead>\n",
       "  <tbody>\n",
       "    <tr>\n",
       "      <th>9</th>\n",
       "      <td>2020.01.02</td>\n",
       "      <td>02-Jan-2020</td>\n",
       "      <td>2020.0</td>\n",
       "    </tr>\n",
       "    <tr>\n",
       "      <th>10</th>\n",
       "      <td>2019.12.30</td>\n",
       "      <td>30-Dec-2019</td>\n",
       "      <td>2019.0</td>\n",
       "    </tr>\n",
       "    <tr>\n",
       "      <th>11</th>\n",
       "      <td>2019.12.28</td>\n",
       "      <td>28-Dec-2019</td>\n",
       "      <td>2019.0</td>\n",
       "    </tr>\n",
       "    <tr>\n",
       "      <th>12</th>\n",
       "      <td>2019.12.26.b</td>\n",
       "      <td>26-Dec-2019</td>\n",
       "      <td>2019.0</td>\n",
       "    </tr>\n",
       "    <tr>\n",
       "      <th>13</th>\n",
       "      <td>2019.12.26.a</td>\n",
       "      <td>26-Dec-2019</td>\n",
       "      <td>2019.0</td>\n",
       "    </tr>\n",
       "    <tr>\n",
       "      <th>14</th>\n",
       "      <td>2019.12.24</td>\n",
       "      <td>24-Dec-2019</td>\n",
       "      <td>2019.0</td>\n",
       "    </tr>\n",
       "    <tr>\n",
       "      <th>15</th>\n",
       "      <td>2019.12.21</td>\n",
       "      <td>21-Dec-2019</td>\n",
       "      <td>2019.0</td>\n",
       "    </tr>\n",
       "    <tr>\n",
       "      <th>16</th>\n",
       "      <td>2019.12.20</td>\n",
       "      <td>20-Dec-2019</td>\n",
       "      <td>2019.0</td>\n",
       "    </tr>\n",
       "    <tr>\n",
       "      <th>17</th>\n",
       "      <td>2019.12.12</td>\n",
       "      <td>12-Dec-2019</td>\n",
       "      <td>2019.0</td>\n",
       "    </tr>\n",
       "    <tr>\n",
       "      <th>18</th>\n",
       "      <td>2019.12.06</td>\n",
       "      <td>06-Dec-2019</td>\n",
       "      <td>2019.0</td>\n",
       "    </tr>\n",
       "  </tbody>\n",
       "</table>\n",
       "</div>"
      ],
      "text/plain": [
       "     Case Number         Date    Year\n",
       "9     2020.01.02  02-Jan-2020  2020.0\n",
       "10    2019.12.30  30-Dec-2019  2019.0\n",
       "11    2019.12.28  28-Dec-2019  2019.0\n",
       "12  2019.12.26.b  26-Dec-2019  2019.0\n",
       "13  2019.12.26.a  26-Dec-2019  2019.0\n",
       "14    2019.12.24  24-Dec-2019  2019.0\n",
       "15    2019.12.21  21-Dec-2019  2019.0\n",
       "16    2019.12.20  20-Dec-2019  2019.0\n",
       "17    2019.12.12  12-Dec-2019  2019.0\n",
       "18    2019.12.06  06-Dec-2019  2019.0"
      ]
     },
     "execution_count": 5,
     "metadata": {},
     "output_type": "execute_result"
    }
   ],
   "source": [
    "sharks.loc[1:10, ('Location', 'Name', 'Activity')]\n",
    "\n",
    "# searching with loc, uses locator class\n",
    "\n",
    "sharks.iloc[9:19, 1:4]\n",
    "\n",
    "# searching with iloc[], uses integer locator class method"
   ]
  },
  {
   "cell_type": "code",
   "execution_count": 6,
   "id": "96a04dcd-b609-4e27-aefc-b2e4e80ee348",
   "metadata": {},
   "outputs": [
    {
     "data": {
      "text/plain": [
       "0       N\n",
       "1       N\n",
       "2       N\n",
       "3       N\n",
       "4       N\n",
       "       ..\n",
       "6457    Y\n",
       "6458    Y\n",
       "6459    Y\n",
       "6460    Y\n",
       "6461    Y\n",
       "Name: Fatal, Length: 6462, dtype: object"
      ]
     },
     "execution_count": 6,
     "metadata": {},
     "output_type": "execute_result"
    }
   ],
   "source": [
    "sharks.loc[:,'Fatal (Y/N)']\n",
    "sharks = sharks.rename(columns = {'Fatal (Y/N)':'Fatal'})\n",
    "sharks.loc[:,'Fatal']"
   ]
  },
  {
   "cell_type": "code",
   "execution_count": 7,
   "id": "d80f5371-f5ba-49f0-bfab-dedd0598c455",
   "metadata": {},
   "outputs": [
    {
     "data": {
      "text/plain": [
       "array(['Unprovoked', 'Provoked', 'Questionable', 'Watercraft',\n",
       "       'Unconfirmed', 'Unverified', 'Invalid', 'Under investigation',\n",
       "       'Boating', 'Sea Disaster', nan, 'Boat', 'Boatomg'], dtype=object)"
      ]
     },
     "execution_count": 7,
     "metadata": {},
     "output_type": "execute_result"
    }
   ],
   "source": [
    "sharks.dtypes\n",
    "sharks['Type'].unique()"
   ]
  },
  {
   "cell_type": "code",
   "execution_count": 8,
   "id": "36c29c8b-e875-47a1-bd42-1a1e935abb4f",
   "metadata": {},
   "outputs": [
    {
     "data": {
      "text/plain": [
       "Index(['InternalStudyID', 'REQ_REC#', 'Defendant_Sex', 'Defendant_Race',\n",
       "       'Defendant_BirthYear', 'Defendant_Age', 'Defendant_AgeGroup',\n",
       "       'Defendant_AgeatCurrentArrest', 'Defendant_AttorneyTypeAtCaseClosure',\n",
       "       'Defendant_IndigencyStatus',\n",
       "       ...\n",
       "       'NewFelonySexualAssaultArrest_OffDate',\n",
       "       'NewFelonySexualAssaultArrest_ArrestDate',\n",
       "       'NewFelonySexualAssaultArrest_DaysBetweenContactEventandOffDate',\n",
       "       'NewFelonySexualAssaultArrest_DaysBetweenOffDateandArrestDate',\n",
       "       'NewFelonySexualAssaultArrest_DaysBetweenReleaseDateandOffDate',\n",
       "       'NewFelonySexualAssaultArrest_Disposition',\n",
       "       'Intertnalindicator_ReasonforExcludingFromFollowUpAnalysis',\n",
       "       'CriminalHistoryRecordsReturnedorCMSRecordsFoundforIndividual',\n",
       "       'DispRecordFoundforChargesinOct2017Contact_Atleast1dispfound',\n",
       "       'CrimeCommission2021ReportClassificationofDefendants'],\n",
       "      dtype='object', length=709)"
      ]
     },
     "execution_count": 8,
     "metadata": {},
     "output_type": "execute_result"
    }
   ],
   "source": [
    "url = 'http://www.vcsc.virginia.gov/pretrialdataproject/October%202017%20Cohort_Virginia%20Pretrial%20Data%20Project_Deidentified%20FINAL%20Update_10272021.csv'\n",
    "df = pd.read_csv(url,low_memory=False)\n",
    "df.columns # Read in Virginia trial data"
   ]
  },
  {
   "cell_type": "code",
   "execution_count": 9,
   "id": "7e4102ec-ceb3-4a82-8355-28dd40b674a5",
   "metadata": {},
   "outputs": [
    {
     "name": "stdout",
     "output_type": "stream",
     "text": [
      "['31' '60' '27' '28' '39' '35' '18' '21' '66' '25' '38' '22' '40' '48'\n",
      " '34' '37' '20' '54' '46' '58' '55' '51' '24' '32' '30' '36' '26' '43'\n",
      " '56' '49' '19' '50' '52' '41' '29' '33' '42' '53' '44' '59' '45' '23'\n",
      " '63' '57' '47' '61' '78' '65' '67' '64' '62' '74' '68' '70' '69' '80'\n",
      " '75' '77' '73' '71' '72' ' ' '79' '81' '85' '100' '82' '76' '83' '93' '0'\n",
      " '99' '84' '87' '86' '92' '88']\n"
     ]
    }
   ],
   "source": [
    "# Missing data\n",
    "\n",
    "var = 'Defendant_Age'\n",
    "print(df[var].unique())\n",
    "# In social science, every interesting problem is fundamentally a missing data issue.\n",
    "# In Pandas, there are two options for representing missing values\n",
    "# - the default is to treat it as an np.nan from the NumPy package ('not a number') and its type is a float\n",
    "# - Pandas also treats a missing value as a None: an empty/null object without a type or value"
   ]
  },
  {
   "cell_type": "code",
   "execution_count": 11,
   "id": "3a36fa6c-9004-4bf9-825e-aeecfa28639c",
   "metadata": {},
   "outputs": [
    {
     "data": {
      "text/plain": [
       "<Axes: >"
      ]
     },
     "execution_count": 11,
     "metadata": {},
     "output_type": "execute_result"
    },
    {
     "data": {
      "image/png": "[encoded data removed]",
      "text/plain": [
       "<Figure size 640x480 with 1 Axes>"
      ]
     },
     "metadata": {},
     "output_type": "display_data"
    }
   ],
   "source": [
    "df['Defendant_Age'].hist()"
   ]
  },
  {
   "cell_type": "code",
   "execution_count": 45,
   "id": "1a17e39e-0a4d-4ccc-bdb3-e5b98652158b",
   "metadata": {},
   "outputs": [
    {
     "name": "stdout",
     "output_type": "stream",
     "text": [
      "545\n"
     ]
    }
   ],
   "source": [
    "# Sharks missing data\n",
    "\n",
    "sharks.loc[:,['Year', 'Age', 'Type', 'Activity']]\n",
    "sharks['Year'].tolist()\n",
    "locmissing = sharks['Location'].isna().sum()\n",
    "print(locmissing)"
   ]
  },
  {
   "cell_type": "code",
   "execution_count": 59,
   "id": "cd9ec2f5-ce6b-448d-8dff-c292f850152a",
   "metadata": {},
   "outputs": [
    {
     "data": {
      "text/plain": [
       "17          160\n",
       "18          155\n",
       "20          146\n",
       "19          145\n",
       "15          140\n",
       "           ... \n",
       "7 & 31        1\n",
       "23 & 20       1\n",
       "mid-30s       1\n",
       "33 or 37      1\n",
       "13 or 14      1\n",
       "Name: Age, Length: 154, dtype: int64"
      ]
     },
     "execution_count": 59,
     "metadata": {},
     "output_type": "execute_result"
    }
   ],
   "source": [
    "# Cleaning Age in sharks\n",
    "sharks['Age'].value_counts()\n"
   ]
  },
  {
   "cell_type": "code",
   "execution_count": null,
   "id": "c602a712-227f-4077-bdd2-b11a7571effb",
   "metadata": {},
   "outputs": [],
   "source": []
  }
 ],
 "metadata": {
  "kernelspec": {
   "display_name": "Python 3 (ipykernel)",
   "language": "python",
   "name": "python3"
  },
  "language_info": {
   "codemirror_mode": {
    "name": "ipython",
    "version": 3
   },
   "file_extension": ".py",
   "mimetype": "text/x-python",
   "name": "python",
   "nbconvert_exporter": "python",
   "pygments_lexer": "ipython3",
   "version": "3.12.4"
  }
 },
 "nbformat": 4,
 "nbformat_minor": 5
}
