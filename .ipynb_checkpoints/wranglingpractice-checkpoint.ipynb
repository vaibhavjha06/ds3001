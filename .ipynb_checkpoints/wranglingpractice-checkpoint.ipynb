{
 "cells": [
  {
   "cell_type": "code",
   "execution_count": 2,
   "id": "4d36e473-f109-4ee3-83cc-80876c928c8f",
   "metadata": {},
   "outputs": [],
   "source": [
    "import pandas as pd\n",
    "import numpy as np\n",
    "import matplotlib.pyplot as plt\n",
    "\n",
    "# importing necessary packages"
   ]
  },
  {
   "cell_type": "code",
   "execution_count": 3,
   "id": "bbf0f1e6-b952-4e41-ad13-61d5cd34cedc",
   "metadata": {},
   "outputs": [],
   "source": [
    "filepath = '/Users/vaibhavjha/wrangling/data/sharks.csv'\n",
    "sharks = pd.read_csv(filepath, low_memory = False)\n",
    "\n",
    "# reading in the file"
   ]
  },
  {
   "cell_type": "code",
   "execution_count": null,
   "id": "6ce2452b-bed8-4fbb-a103-4d13dddb3d18",
   "metadata": {},
   "outputs": [],
   "source": [
    "sharks.head()\n",
    "#sharks.shape\n",
    "\n",
    "# getting feel for size, rows, columns"
   ]
  },
  {
   "cell_type": "code",
   "execution_count": null,
   "id": "78d021cd-d97e-45ad-887f-bf93ac459616",
   "metadata": {},
   "outputs": [],
   "source": [
    "sharks.loc[1:10, ('Location', 'Name', 'Activity')]\n",
    "\n",
    "# searching with loc, uses locator class\n",
    "\n",
    "sharks.iloc[9:19, 1:4]\n",
    "\n",
    "# searching with iloc[], uses integer locator class method"
   ]
  },
  {
   "cell_type": "code",
   "execution_count": 30,
   "id": "96a04dcd-b609-4e27-aefc-b2e4e80ee348",
   "metadata": {},
   "outputs": [
    {
     "data": {
      "text/plain": [
       "0       N\n",
       "1       N\n",
       "2       N\n",
       "3       N\n",
       "4       N\n",
       "       ..\n",
       "6457    Y\n",
       "6458    Y\n",
       "6459    Y\n",
       "6460    Y\n",
       "6461    Y\n",
       "Name: Fatal, Length: 6462, dtype: object"
      ]
     },
     "execution_count": 30,
     "metadata": {},
     "output_type": "execute_result"
    }
   ],
   "source": [
    "# sharks.loc[:,'Fatal (Y/N)']\n",
    "# sharks = sharks.rename(columns = {'Fatal (Y/N)':'Fatal'})\n",
    "sharks.loc[:,'Fatal']"
   ]
  },
  {
   "cell_type": "code",
   "execution_count": null,
   "id": "d80f5371-f5ba-49f0-bfab-dedd0598c455",
   "metadata": {},
   "outputs": [],
   "source": []
  }
 ],
 "metadata": {
  "kernelspec": {
   "display_name": "Python 3 (ipykernel)",
   "language": "python",
   "name": "python3"
  },
  "language_info": {
   "codemirror_mode": {
    "name": "ipython",
    "version": 3
   },
   "file_extension": ".py",
   "mimetype": "text/x-python",
   "name": "python",
   "nbconvert_exporter": "python",
   "pygments_lexer": "ipython3",
   "version": "3.12.4"
  }
 },
 "nbformat": 4,
 "nbformat_minor": 5
}
