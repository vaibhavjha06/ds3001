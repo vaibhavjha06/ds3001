import pandas as pd
import numpy as np
import matplotlib.pyplot as plt

# importing necessary packages


filepath = '/Users/vaibhavjha/wrangling/data/sharks.csv'
sharks = pd.read_csv(filepath, low_memory = False)

# reading in the file


sharks.head()
#sharks.shape

# getting feel for size, rows, columns


sharks.loc[1:10, ('Location', 'Name', 'Activity')]

# searching with loc, uses locator class

sharks.iloc[9:19, 1:4]

# searching with iloc[], uses integer locator class method


sharks.loc[:,'Fatal (Y/N)']
sharks = sharks.rename(columns = {'Fatal (Y/N)':'Fatal'})
sharks.loc[:,'Fatal']


sharks.dtypes
sharks['Type'].unique()


url = 'http://www.vcsc.virginia.gov/pretrialdataproject/October%202017%20Cohort_Virginia%20Pretrial%20Data%20Project_Deidentified%20FINAL%20Update_10272021.csv'
df = pd.read_csv(url,low_memory=False)
df.columns # Read in Virginia trial data


# Missing data

var = 'Defendant_Age'
print(df[var].unique())
# In social science, every interesting problem is fundamentally a missing data issue.
# In Pandas, there are two options for representing missing values
# - the default is to treat it as an np.nan from the NumPy package ('not a number') and its type is a float
# - Pandas also treats a missing value as a None: an empty/null object without a type or value



