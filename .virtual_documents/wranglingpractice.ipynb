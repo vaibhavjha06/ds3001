import pandas as pd
import numpy as np
import matplotlib.pyplot as plt

# importing necessary packages


filepath = '/Users/vaibhavjha/wrangling/data/sharks.csv'
sharks = pd.read_csv(filepath, low_memory = False)

# reading in the file


sharks.head()
#sharks.shape

# getting feel for size, rows, columns


sharks.loc[1:10, ('Location', 'Name', 'Activity')]

# searching with loc, uses locator class

sharks.iloc[9:19, 1:4]

# searching with iloc[], uses integer locator class method


# sharks.loc[:,'Fatal (Y/N)']
# sharks = sharks.rename(columns = {'Fatal (Y/N)':'Fatal'})
sharks.loc[:,'Fatal']



